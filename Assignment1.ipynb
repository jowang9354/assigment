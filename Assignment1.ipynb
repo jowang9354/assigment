{
  "nbformat": 4,
  "nbformat_minor": 0,
  "metadata": {
    "colab": {
      "provenance": []
    },
    "kernelspec": {
      "name": "python3",
      "display_name": "Python 3"
    },
    "language_info": {
      "name": "python"
    }
  },
  "cells": [
    {
      "cell_type": "code",
      "source": [
        "Ass1:"
      ],
      "metadata": {
        "id": "53sve0Rz2H4k"
      },
      "execution_count": 2,
      "outputs": []
    },
    {
      "cell_type": "code",
      "source": [
        "import whisper"
      ],
      "metadata": {
        "id": "rGL1BgFzCcGE"
      },
      "execution_count": 29,
      "outputs": []
    },
    {
      "cell_type": "code",
      "source": [
        "model = whisper.load_model(\"base\")"
      ],
      "metadata": {
        "colab": {
          "base_uri": "https://localhost:8080/"
        },
        "id": "mTf_oIDH3sha",
        "outputId": "22ef1999-ed90-4da6-859b-7b832f1de1ad"
      },
      "execution_count": 3,
      "outputs": [
        {
          "output_type": "stream",
          "name": "stderr",
          "text": [
            "100%|███████████████████████████████████████| 139M/139M [00:01<00:00, 88.3MiB/s]\n"
          ]
        }
      ]
    },
    {
      "cell_type": "code",
      "source": [
        "transcription = model.transcribe(\"/content/TedTalk_Bill_Gates.wav\")"
      ],
      "metadata": {
        "colab": {
          "base_uri": "https://localhost:8080/"
        },
        "id": "ULcb8Ue83yWI",
        "outputId": "1ab74202-0fc0-4829-9239-5a60f7777e47"
      },
      "execution_count": 4,
      "outputs": [
        {
          "output_type": "stream",
          "name": "stderr",
          "text": [
            "/usr/local/lib/python3.10/dist-packages/whisper/transcribe.py:115: UserWarning: FP16 is not supported on CPU; using FP32 instead\n",
            "  warnings.warn(\"FP16 is not supported on CPU; using FP32 instead\")\n"
          ]
        }
      ]
    },
    {
      "cell_type": "code",
      "source": [
        "transcription[\"text\"]"
      ],
      "metadata": {
        "colab": {
          "base_uri": "https://localhost:8080/",
          "height": 157
        },
        "id": "B6kwDeaZ4df_",
        "outputId": "14827a99-7f22-434f-8082-b8ff68b7e226"
      },
      "execution_count": 8,
      "outputs": [
        {
          "output_type": "execute_result",
          "data": {
            "text/plain": [
              "\" I'm going to talk today about energy and climate. And that might seem a bit surprising, because my full-time work at the foundation is mostly about vaccines and seeds, about the things that we need to invent and deliver to help the poorest 2 billion live better lives. But energy and climate are extremely important to these people. In fact, more important than to anyone else on the planet. The climate getting worse means that many years their crops won't grow. There'll be too much rain, not enough rain. Things will change in ways that their fragile environment simply can't support. And that leads to salvation. It leads to uncertainty. It leads to unrest. Also, the climate changes will be terrible for them. Also, the price of energy is very important to them. In fact, if you could pick just one thing to lower the price of energy, you could have a job to reduce poverty by far you would pick energy. Now, the price of energy has come down over time. Really advanced civilization is based on advances in energy. The coal revolution, the industrial revolution. And even in the 1900s, we've seen a very rapid decline in the price of electricity. That's why we have refrigerators, air conditioning. We have to learn materials and do so many things. And so we're in a wonderful situation with electricity in the rich world. But as we make it cheaper, and let's say let's go for making it twice as cheap, we need to mean a new constraint. And that constraint has to do with CO2. CO2 is warming the planet. And the equation on CO2 is actually a very straightforward one. If you sum up the CO2 that gets emitted, that leads to a temperature increase. And that temperature increase leads to some very negative effects. The effects on the weather, perhaps worse, the indirect effects in that the natural ecosystems can't adjust to these rapid changes. And so you get ecosystem collapses.\""
            ],
            "application/vnd.google.colaboratory.intrinsic+json": {
              "type": "string"
            }
          },
          "metadata": {},
          "execution_count": 8
        }
      ]
    },
    {
      "cell_type": "code",
      "source": [
        "def sample_abstractive_summarization() -> None:\n",
        "    # [START abstract_summary]\n",
        "    import os\n",
        "    from azure.core.credentials import AzureKeyCredential\n",
        "    from azure.ai.textanalytics import TextAnalyticsClient\n",
        "\n",
        "    endpoint = \"xxxxxxxx\"\n",
        "    key = \"xxxxxx\"\n",
        "\n",
        "    text_analytics_client = TextAnalyticsClient(\n",
        "        endpoint=endpoint,\n",
        "        credential=AzureKeyCredential(key),\n",
        "    )\n",
        "\n",
        "    document = [transcription[\"text\"]]\n",
        "\n",
        "    poller = text_analytics_client.begin_abstract_summary(document)\n",
        "    abstract_summary_results = poller.result()\n",
        "    for result in abstract_summary_results:\n",
        "        if result.kind == \"AbstractiveSummarization\":\n",
        "            print(\"Summaries abstracted:\")\n",
        "            [print(f\"{summary.text}\\n\") for summary in result.summaries]\n",
        "        elif result.is_error is True:\n",
        "            print(\"...Is an error with code '{}' and message '{}'\".format(\n",
        "                result.error.code, result.error.message\n",
        "            ))\n",
        "    # [END abstract_summary]\n",
        "\n",
        "\n",
        "if __name__ == \"__main__\":\n",
        "    sample_abstractive_summarization()"
      ],
      "metadata": {
        "colab": {
          "base_uri": "https://localhost:8080/"
        },
        "id": "gXgybFrr4q2s",
        "outputId": "1ac85164-f329-4bbb-d2e1-ae9c135c8fa2"
      },
      "execution_count": 28,
      "outputs": [
        {
          "output_type": "stream",
          "name": "stdout",
          "text": [
            "Summaries abstracted:\n",
            "The author's full-time work at the foundation is about vaccines and seeds, but energy and climate are extremely important to the poorest 2 billion people. The climate getting worse means that many years their crops won't grow. The price of energy is very important to them. If you could pick just one thing to lower the price of energy, you would pick energy. The price of electricity has come down over time, but as we make it cheaper, we need to mean a new constraint. CO2 is warming the planet, and that temperature increase leads to some very negative effects.\n",
            "\n"
          ]
        }
      ]
    },
    {
      "cell_type": "code",
      "source": [],
      "metadata": {
        "id": "gCBMmFXqB_sj"
      },
      "execution_count": 28,
      "outputs": []
    },
    {
      "cell_type": "code",
      "source": [],
      "metadata": {
        "id": "fvW1_CfX_XBj"
      },
      "execution_count": 28,
      "outputs": []
    },
    {
      "cell_type": "code",
      "source": [],
      "metadata": {
        "id": "8_JnE0rMAjO2"
      },
      "execution_count": null,
      "outputs": []
    }
  ]
}